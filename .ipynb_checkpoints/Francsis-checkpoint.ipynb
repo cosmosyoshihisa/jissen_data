{
 "cells": [
  {
   "cell_type": "code",
   "execution_count": 1,
   "metadata": {},
   "outputs": [],
   "source": [
    "x1 <- c(10.0, 8.0, 13.0, 9.0, 11.0, 14.0, 6.0, 4.0, 12.0, 7.0, 5.0)\n",
    "y1 <- c(8.04, 6.95, 7.58, 8.81, 8.33, 9.96, 7.24, 4.26, 10.84, 4.82, 5.68)\n",
    "y2 <- c(9.14, 8.14, 8.74, 8.77, 9.26, 8.10, 6.13, 3.10, 9.13, 7.26, 4.74)\n",
    "y3 <- c(7.46, 6.77, 12.74, 7.11, 7.81, 8.84, 6.08, 5.39, 8.15, 6.42, 5.73)\n",
    "x4 <- c(8.0, 8.0, 8.0,8.0, 8.0, 8.0, 8.0, 19.0, 8.0, 8.0, 8.0)\n",
    "y4 <- c(6.58, 5.76, 7.71, 8.84, 8.47, 7.04, 5.25, 12.50, 5.56, 7.91, 6.89)\n",
    "\n",
    "data1 <- data.frame(x1=x1, y1=y1, y2=y2, y3=y3, x4=x4, y4=y4)"
   ]
  },
  {
   "cell_type": "code",
   "execution_count": 2,
   "metadata": {},
   "outputs": [
    {
     "data": {
      "text/html": [
       "<table>\n",
       "<thead><tr><th scope=col>x1</th><th scope=col>y1</th><th scope=col>y2</th><th scope=col>y3</th><th scope=col>x4</th><th scope=col>y4</th></tr></thead>\n",
       "<tbody>\n",
       "\t<tr><td>10   </td><td> 8.04</td><td>9.14 </td><td> 7.46</td><td> 8   </td><td> 6.58</td></tr>\n",
       "\t<tr><td> 8   </td><td> 6.95</td><td>8.14 </td><td> 6.77</td><td> 8   </td><td> 5.76</td></tr>\n",
       "\t<tr><td>13   </td><td> 7.58</td><td>8.74 </td><td>12.74</td><td> 8   </td><td> 7.71</td></tr>\n",
       "\t<tr><td> 9   </td><td> 8.81</td><td>8.77 </td><td> 7.11</td><td> 8   </td><td> 8.84</td></tr>\n",
       "\t<tr><td>11   </td><td> 8.33</td><td>9.26 </td><td> 7.81</td><td> 8   </td><td> 8.47</td></tr>\n",
       "\t<tr><td>14   </td><td> 9.96</td><td>8.10 </td><td> 8.84</td><td> 8   </td><td> 7.04</td></tr>\n",
       "\t<tr><td> 6   </td><td> 7.24</td><td>6.13 </td><td> 6.08</td><td> 8   </td><td> 5.25</td></tr>\n",
       "\t<tr><td> 4   </td><td> 4.26</td><td>3.10 </td><td> 5.39</td><td>19   </td><td>12.50</td></tr>\n",
       "\t<tr><td>12   </td><td>10.84</td><td>9.13 </td><td> 8.15</td><td> 8   </td><td> 5.56</td></tr>\n",
       "\t<tr><td> 7   </td><td> 4.82</td><td>7.26 </td><td> 6.42</td><td> 8   </td><td> 7.91</td></tr>\n",
       "\t<tr><td> 5   </td><td> 5.68</td><td>4.74 </td><td> 5.73</td><td> 8   </td><td> 6.89</td></tr>\n",
       "</tbody>\n",
       "</table>\n"
      ],
      "text/latex": [
       "\\begin{tabular}{r|llllll}\n",
       " x1 & y1 & y2 & y3 & x4 & y4\\\\\n",
       "\\hline\n",
       "\t 10    &  8.04 & 9.14  &  7.46 &  8    &  6.58\\\\\n",
       "\t  8    &  6.95 & 8.14  &  6.77 &  8    &  5.76\\\\\n",
       "\t 13    &  7.58 & 8.74  & 12.74 &  8    &  7.71\\\\\n",
       "\t  9    &  8.81 & 8.77  &  7.11 &  8    &  8.84\\\\\n",
       "\t 11    &  8.33 & 9.26  &  7.81 &  8    &  8.47\\\\\n",
       "\t 14    &  9.96 & 8.10  &  8.84 &  8    &  7.04\\\\\n",
       "\t  6    &  7.24 & 6.13  &  6.08 &  8    &  5.25\\\\\n",
       "\t  4    &  4.26 & 3.10  &  5.39 & 19    & 12.50\\\\\n",
       "\t 12    & 10.84 & 9.13  &  8.15 &  8    &  5.56\\\\\n",
       "\t  7    &  4.82 & 7.26  &  6.42 &  8    &  7.91\\\\\n",
       "\t  5    &  5.68 & 4.74  &  5.73 &  8    &  6.89\\\\\n",
       "\\end{tabular}\n"
      ],
      "text/markdown": [
       "\n",
       "x1 | y1 | y2 | y3 | x4 | y4 | \n",
       "|---|---|---|---|---|---|---|---|---|---|---|\n",
       "| 10    |  8.04 | 9.14  |  7.46 |  8    |  6.58 | \n",
       "|  8    |  6.95 | 8.14  |  6.77 |  8    |  5.76 | \n",
       "| 13    |  7.58 | 8.74  | 12.74 |  8    |  7.71 | \n",
       "|  9    |  8.81 | 8.77  |  7.11 |  8    |  8.84 | \n",
       "| 11    |  8.33 | 9.26  |  7.81 |  8    |  8.47 | \n",
       "| 14    |  9.96 | 8.10  |  8.84 |  8    |  7.04 | \n",
       "|  6    |  7.24 | 6.13  |  6.08 |  8    |  5.25 | \n",
       "|  4    |  4.26 | 3.10  |  5.39 | 19    | 12.50 | \n",
       "| 12    | 10.84 | 9.13  |  8.15 |  8    |  5.56 | \n",
       "|  7    |  4.82 | 7.26  |  6.42 |  8    |  7.91 | \n",
       "|  5    |  5.68 | 4.74  |  5.73 |  8    |  6.89 | \n",
       "\n",
       "\n"
      ],
      "text/plain": [
       "   x1 y1    y2   y3    x4 y4   \n",
       "1  10  8.04 9.14  7.46  8  6.58\n",
       "2   8  6.95 8.14  6.77  8  5.76\n",
       "3  13  7.58 8.74 12.74  8  7.71\n",
       "4   9  8.81 8.77  7.11  8  8.84\n",
       "5  11  8.33 9.26  7.81  8  8.47\n",
       "6  14  9.96 8.10  8.84  8  7.04\n",
       "7   6  7.24 6.13  6.08  8  5.25\n",
       "8   4  4.26 3.10  5.39 19 12.50\n",
       "9  12 10.84 9.13  8.15  8  5.56\n",
       "10  7  4.82 7.26  6.42  8  7.91\n",
       "11  5  5.68 4.74  5.73  8  6.89"
      ]
     },
     "metadata": {},
     "output_type": "display_data"
    }
   ],
   "source": [
    "data1"
   ]
  },
  {
   "cell_type": "code",
   "execution_count": 5,
   "metadata": {
    "scrolled": true
   },
   "outputs": [
    {
     "data": {
      "text/html": [
       "<strong>png:</strong> 2"
      ],
      "text/latex": [
       "\\textbf{png:} 2"
      ],
      "text/markdown": [
       "**png:** 2"
      ],
      "text/plain": [
       "png \n",
       "  2 "
      ]
     },
     "metadata": {},
     "output_type": "display_data"
    }
   ],
   "source": [
    "png(\"francsis1.png\",width=400,height=400)\n",
    "plot(data1[,1],data1[,2])\n",
    "dev.off()"
   ]
  },
  {
   "cell_type": "code",
   "execution_count": null,
   "metadata": {},
   "outputs": [],
   "source": [
    "summary(data1)"
   ]
  },
  {
   "cell_type": "code",
   "execution_count": 6,
   "metadata": {
    "scrolled": true
   },
   "outputs": [
    {
     "data": {
      "text/plain": [
       "\n",
       "Call:\n",
       "lm(formula = data1[, 2] ~ data1[, 1])\n",
       "\n",
       "Residuals:\n",
       "     Min       1Q   Median       3Q      Max \n",
       "-1.92127 -0.45577 -0.04136  0.70941  1.83882 \n",
       "\n",
       "Coefficients:\n",
       "            Estimate Std. Error t value Pr(>|t|)   \n",
       "(Intercept)   3.0001     1.1247   2.667  0.02573 * \n",
       "data1[, 1]    0.5001     0.1179   4.241  0.00217 **\n",
       "---\n",
       "Signif. codes:  0 '***' 0.001 '**' 0.01 '*' 0.05 '.' 0.1 ' ' 1\n",
       "\n",
       "Residual standard error: 1.237 on 9 degrees of freedom\n",
       "Multiple R-squared:  0.6665,\tAdjusted R-squared:  0.6295 \n",
       "F-statistic: 17.99 on 1 and 9 DF,  p-value: 0.00217\n"
      ]
     },
     "metadata": {},
     "output_type": "display_data"
    },
    {
     "data": {
      "text/html": [
       "<strong>png:</strong> 2"
      ],
      "text/latex": [
       "\\textbf{png:} 2"
      ],
      "text/markdown": [
       "**png:** 2"
      ],
      "text/plain": [
       "png \n",
       "  2 "
      ]
     },
     "metadata": {},
     "output_type": "display_data"
    }
   ],
   "source": [
    "lsr_data1 <- lm( data1[,2]~data1[,1])\n",
    "summary(lsr_data1)\n",
    "png(\"francsis2.png\",width=400,height=400)\n",
    "plot(data1[,1],data1[,2])\n",
    "abline(lsr_data1)\n",
    "dev.off()"
   ]
  },
  {
   "cell_type": "code",
   "execution_count": 7,
   "metadata": {},
   "outputs": [
    {
     "data": {
      "text/plain": [
       "\n",
       "Call:\n",
       "lm(formula = data1[, 3] ~ data1[, 1])\n",
       "\n",
       "Residuals:\n",
       "    Min      1Q  Median      3Q     Max \n",
       "-1.9009 -0.7609  0.1291  0.9491  1.2691 \n",
       "\n",
       "Coefficients:\n",
       "            Estimate Std. Error t value Pr(>|t|)   \n",
       "(Intercept)    3.001      1.125   2.667  0.02576 * \n",
       "data1[, 1]     0.500      0.118   4.239  0.00218 **\n",
       "---\n",
       "Signif. codes:  0 '***' 0.001 '**' 0.01 '*' 0.05 '.' 0.1 ' ' 1\n",
       "\n",
       "Residual standard error: 1.237 on 9 degrees of freedom\n",
       "Multiple R-squared:  0.6662,\tAdjusted R-squared:  0.6292 \n",
       "F-statistic: 17.97 on 1 and 9 DF,  p-value: 0.002179\n"
      ]
     },
     "metadata": {},
     "output_type": "display_data"
    },
    {
     "data": {
      "text/html": [
       "<strong>png:</strong> 2"
      ],
      "text/latex": [
       "\\textbf{png:} 2"
      ],
      "text/markdown": [
       "**png:** 2"
      ],
      "text/plain": [
       "png \n",
       "  2 "
      ]
     },
     "metadata": {},
     "output_type": "display_data"
    }
   ],
   "source": [
    "lsr_data2 <- lm( data1[,3]~data1[,1])\n",
    "summary(lsr_data2)\n",
    "png(\"francsis3.png\",width=400,height=400)\n",
    "plot(data1[,1],data1[,3])\n",
    "abline(lsr_data2)\n",
    "dev.off()"
   ]
  },
  {
   "cell_type": "code",
   "execution_count": 8,
   "metadata": {},
   "outputs": [
    {
     "data": {
      "text/plain": [
       "\n",
       "Call:\n",
       "lm(formula = data1[, 4] ~ data1[, 1])\n",
       "\n",
       "Residuals:\n",
       "    Min      1Q  Median      3Q     Max \n",
       "-1.1586 -0.6146 -0.2303  0.1540  3.2411 \n",
       "\n",
       "Coefficients:\n",
       "            Estimate Std. Error t value Pr(>|t|)   \n",
       "(Intercept)   3.0025     1.1245   2.670  0.02562 * \n",
       "data1[, 1]    0.4997     0.1179   4.239  0.00218 **\n",
       "---\n",
       "Signif. codes:  0 '***' 0.001 '**' 0.01 '*' 0.05 '.' 0.1 ' ' 1\n",
       "\n",
       "Residual standard error: 1.236 on 9 degrees of freedom\n",
       "Multiple R-squared:  0.6663,\tAdjusted R-squared:  0.6292 \n",
       "F-statistic: 17.97 on 1 and 9 DF,  p-value: 0.002176\n"
      ]
     },
     "metadata": {},
     "output_type": "display_data"
    },
    {
     "data": {
      "text/html": [
       "<strong>png:</strong> 2"
      ],
      "text/latex": [
       "\\textbf{png:} 2"
      ],
      "text/markdown": [
       "**png:** 2"
      ],
      "text/plain": [
       "png \n",
       "  2 "
      ]
     },
     "metadata": {},
     "output_type": "display_data"
    }
   ],
   "source": [
    "lsr_data3 <- lm( data1[,4]~data1[,1])\n",
    "summary(lsr_data3)\n",
    "png(\"francsis4.png\",width=400,height=400)\n",
    "plot(data1[,1],data1[,4])\n",
    "abline(lsr_data3)\n",
    "dev.off()"
   ]
  },
  {
   "cell_type": "code",
   "execution_count": 10,
   "metadata": {},
   "outputs": [
    {
     "data": {
      "text/plain": [
       "\n",
       "Call:\n",
       "lm(formula = data1[, 6] ~ data1[, 5])\n",
       "\n",
       "Residuals:\n",
       "   Min     1Q Median     3Q    Max \n",
       "-1.751 -0.831  0.000  0.809  1.839 \n",
       "\n",
       "Coefficients:\n",
       "            Estimate Std. Error t value Pr(>|t|)   \n",
       "(Intercept)   3.0017     1.1239   2.671  0.02559 * \n",
       "data1[, 5]    0.4999     0.1178   4.243  0.00216 **\n",
       "---\n",
       "Signif. codes:  0 '***' 0.001 '**' 0.01 '*' 0.05 '.' 0.1 ' ' 1\n",
       "\n",
       "Residual standard error: 1.236 on 9 degrees of freedom\n",
       "Multiple R-squared:  0.6667,\tAdjusted R-squared:  0.6297 \n",
       "F-statistic:    18 on 1 and 9 DF,  p-value: 0.002165\n"
      ]
     },
     "metadata": {},
     "output_type": "display_data"
    },
    {
     "data": {
      "text/html": [
       "<strong>png:</strong> 2"
      ],
      "text/latex": [
       "\\textbf{png:} 2"
      ],
      "text/markdown": [
       "**png:** 2"
      ],
      "text/plain": [
       "png \n",
       "  2 "
      ]
     },
     "metadata": {},
     "output_type": "display_data"
    }
   ],
   "source": [
    "lsr_data4 <- lm( data1[,6]~data1[,5])\n",
    "summary(lsr_data4)\n",
    "png(\"francsis5.png\",width=400,height=400)\n",
    "plot(data1[,5],data1[,6])\n",
    "abline(lsr_data4)\n",
    "dev.off()"
   ]
  },
  {
   "cell_type": "code",
   "execution_count": null,
   "metadata": {},
   "outputs": [],
   "source": []
  }
 ],
 "metadata": {
  "kernelspec": {
   "display_name": "R",
   "language": "R",
   "name": "ir"
  },
  "language_info": {
   "codemirror_mode": "r",
   "file_extension": ".r",
   "mimetype": "text/x-r-source",
   "name": "R",
   "pygments_lexer": "r",
   "version": "3.5.1"
  }
 },
 "nbformat": 4,
 "nbformat_minor": 2
}
