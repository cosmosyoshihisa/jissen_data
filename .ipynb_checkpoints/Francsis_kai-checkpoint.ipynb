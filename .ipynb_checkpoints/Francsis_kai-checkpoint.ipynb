{
 "cells": [
  {
   "cell_type": "code",
   "execution_count": 7,
   "metadata": {},
   "outputs": [],
   "source": [
    "x1 <- c(10.0, 8.0, 13.0, 9.0, 11.0, 14.0, 6.0, 4.0, 12.0, 7.0, 5.0)\n",
    "y1 <- c(8.04, 6.95, 7.58, 8.81, 8.33, 9.96, 7.24, 4.26, 10.84, 4.82, 5.68)\n",
    "y2 <- c(9.14, 8.14, 8.74, 8.77, 9.26, 8.10, 6.13, 3.10, 9.13, 7.26, 4.74)\n",
    "y3 <- c(7.46, 6.77, 12.74, 7.11, 7.81, 8.84, 6.08, 5.39, 8.15, 6.42, 5.73)\n",
    "x4 <- c(8.0, 8.0, 8.0,8.0, 8.0, 8.0, 8.0, 19.0, 8.0, 8.0, 8.0)\n",
    "y4 <- c(6.58, 5.76, 7.71, 8.84, 8.47, 7.04, 5.25, 12.50, 5.56, 7.91, 6.89)\n",
    "\n",
    "data1 <- data.frame(x1=x1, y1=y1, y2=y2, y3=y3, x4=x4, y4=y4)"
   ]
  },
  {
   "cell_type": "code",
   "execution_count": 8,
   "metadata": {},
   "outputs": [
    {
     "data": {
      "text/html": [
       "<table>\n",
       "<thead><tr><th scope=col>x1</th><th scope=col>y1</th><th scope=col>y2</th><th scope=col>y3</th><th scope=col>x4</th><th scope=col>y4</th></tr></thead>\n",
       "<tbody>\n",
       "\t<tr><td>10   </td><td> 8.04</td><td>9.14 </td><td> 7.46</td><td> 8   </td><td> 6.58</td></tr>\n",
       "\t<tr><td> 8   </td><td> 6.95</td><td>8.14 </td><td> 6.77</td><td> 8   </td><td> 5.76</td></tr>\n",
       "\t<tr><td>13   </td><td> 7.58</td><td>8.74 </td><td>12.74</td><td> 8   </td><td> 7.71</td></tr>\n",
       "\t<tr><td> 9   </td><td> 8.81</td><td>8.77 </td><td> 7.11</td><td> 8   </td><td> 8.84</td></tr>\n",
       "\t<tr><td>11   </td><td> 8.33</td><td>9.26 </td><td> 7.81</td><td> 8   </td><td> 8.47</td></tr>\n",
       "\t<tr><td>14   </td><td> 9.96</td><td>8.10 </td><td> 8.84</td><td> 8   </td><td> 7.04</td></tr>\n",
       "\t<tr><td> 6   </td><td> 7.24</td><td>6.13 </td><td> 6.08</td><td> 8   </td><td> 5.25</td></tr>\n",
       "\t<tr><td> 4   </td><td> 4.26</td><td>3.10 </td><td> 5.39</td><td>19   </td><td>12.50</td></tr>\n",
       "\t<tr><td>12   </td><td>10.84</td><td>9.13 </td><td> 8.15</td><td> 8   </td><td> 5.56</td></tr>\n",
       "\t<tr><td> 7   </td><td> 4.82</td><td>7.26 </td><td> 6.42</td><td> 8   </td><td> 7.91</td></tr>\n",
       "\t<tr><td> 5   </td><td> 5.68</td><td>4.74 </td><td> 5.73</td><td> 8   </td><td> 6.89</td></tr>\n",
       "</tbody>\n",
       "</table>\n"
      ],
      "text/latex": [
       "\\begin{tabular}{r|llllll}\n",
       " x1 & y1 & y2 & y3 & x4 & y4\\\\\n",
       "\\hline\n",
       "\t 10    &  8.04 & 9.14  &  7.46 &  8    &  6.58\\\\\n",
       "\t  8    &  6.95 & 8.14  &  6.77 &  8    &  5.76\\\\\n",
       "\t 13    &  7.58 & 8.74  & 12.74 &  8    &  7.71\\\\\n",
       "\t  9    &  8.81 & 8.77  &  7.11 &  8    &  8.84\\\\\n",
       "\t 11    &  8.33 & 9.26  &  7.81 &  8    &  8.47\\\\\n",
       "\t 14    &  9.96 & 8.10  &  8.84 &  8    &  7.04\\\\\n",
       "\t  6    &  7.24 & 6.13  &  6.08 &  8    &  5.25\\\\\n",
       "\t  4    &  4.26 & 3.10  &  5.39 & 19    & 12.50\\\\\n",
       "\t 12    & 10.84 & 9.13  &  8.15 &  8    &  5.56\\\\\n",
       "\t  7    &  4.82 & 7.26  &  6.42 &  8    &  7.91\\\\\n",
       "\t  5    &  5.68 & 4.74  &  5.73 &  8    &  6.89\\\\\n",
       "\\end{tabular}\n"
      ],
      "text/markdown": [
       "\n",
       "x1 | y1 | y2 | y3 | x4 | y4 | \n",
       "|---|---|---|---|---|---|---|---|---|---|---|\n",
       "| 10    |  8.04 | 9.14  |  7.46 |  8    |  6.58 | \n",
       "|  8    |  6.95 | 8.14  |  6.77 |  8    |  5.76 | \n",
       "| 13    |  7.58 | 8.74  | 12.74 |  8    |  7.71 | \n",
       "|  9    |  8.81 | 8.77  |  7.11 |  8    |  8.84 | \n",
       "| 11    |  8.33 | 9.26  |  7.81 |  8    |  8.47 | \n",
       "| 14    |  9.96 | 8.10  |  8.84 |  8    |  7.04 | \n",
       "|  6    |  7.24 | 6.13  |  6.08 |  8    |  5.25 | \n",
       "|  4    |  4.26 | 3.10  |  5.39 | 19    | 12.50 | \n",
       "| 12    | 10.84 | 9.13  |  8.15 |  8    |  5.56 | \n",
       "|  7    |  4.82 | 7.26  |  6.42 |  8    |  7.91 | \n",
       "|  5    |  5.68 | 4.74  |  5.73 |  8    |  6.89 | \n",
       "\n",
       "\n"
      ],
      "text/plain": [
       "   x1 y1    y2   y3    x4 y4   \n",
       "1  10  8.04 9.14  7.46  8  6.58\n",
       "2   8  6.95 8.14  6.77  8  5.76\n",
       "3  13  7.58 8.74 12.74  8  7.71\n",
       "4   9  8.81 8.77  7.11  8  8.84\n",
       "5  11  8.33 9.26  7.81  8  8.47\n",
       "6  14  9.96 8.10  8.84  8  7.04\n",
       "7   6  7.24 6.13  6.08  8  5.25\n",
       "8   4  4.26 3.10  5.39 19 12.50\n",
       "9  12 10.84 9.13  8.15  8  5.56\n",
       "10  7  4.82 7.26  6.42  8  7.91\n",
       "11  5  5.68 4.74  5.73  8  6.89"
      ]
     },
     "metadata": {},
     "output_type": "display_data"
    }
   ],
   "source": [
    "data1"
   ]
  },
  {
   "cell_type": "code",
   "execution_count": null,
   "metadata": {
    "scrolled": true
   },
   "outputs": [],
   "source": [
    "plot(data1[,1],data1[,2])"
   ]
  },
  {
   "cell_type": "code",
   "execution_count": null,
   "metadata": {},
   "outputs": [],
   "source": [
    "data2 <- data.frame(x1=x1,y3=y3)\n",
    "data2 <- data2[-3,]"
   ]
  },
  {
   "cell_type": "code",
   "execution_count": null,
   "metadata": {},
   "outputs": [],
   "source": [
    "data2"
   ]
  },
  {
   "cell_type": "code",
   "execution_count": null,
   "metadata": {
    "scrolled": true
   },
   "outputs": [],
   "source": [
    "plot(data2[,1],data2[,2])"
   ]
  },
  {
   "cell_type": "code",
   "execution_count": null,
   "metadata": {},
   "outputs": [],
   "source": [
    "lsr_data3_kai <- lm( data2[,2]~data2[,1])\n",
    "summary(lsr_data3_kai)\n",
    "png(\"francsis3_kai.png\",width=400,height=400)\n",
    "plot(data2[,1],data2[,2])\n",
    "abline(lsr_data3_kai)\n",
    "dev.off()\n",
    "plot(data2[,1],data2[,2])\n",
    "abline(lsr_data3_kai)"
   ]
  },
  {
   "cell_type": "code",
   "execution_count": 5,
   "metadata": {},
   "outputs": [],
   "source": [
    "data3 <- data.frame(x4=x4,y4=y4)\n",
    "data3 <- data3[-8,]"
   ]
  },
  {
   "cell_type": "code",
   "execution_count": 14,
   "metadata": {},
   "outputs": [
    {
     "data": {
      "text/html": [
       "<table>\n",
       "<thead><tr><th></th><th scope=col>x4</th><th scope=col>y4</th></tr></thead>\n",
       "<tbody>\n",
       "\t<tr><th scope=row>1</th><td>8   </td><td>6.58</td></tr>\n",
       "\t<tr><th scope=row>2</th><td>8   </td><td>5.76</td></tr>\n",
       "\t<tr><th scope=row>3</th><td>8   </td><td>7.71</td></tr>\n",
       "\t<tr><th scope=row>4</th><td>8   </td><td>8.84</td></tr>\n",
       "\t<tr><th scope=row>5</th><td>8   </td><td>8.47</td></tr>\n",
       "\t<tr><th scope=row>6</th><td>8   </td><td>7.04</td></tr>\n",
       "\t<tr><th scope=row>7</th><td>8   </td><td>5.25</td></tr>\n",
       "\t<tr><th scope=row>9</th><td>8   </td><td>5.56</td></tr>\n",
       "\t<tr><th scope=row>10</th><td>8   </td><td>7.91</td></tr>\n",
       "\t<tr><th scope=row>11</th><td>8   </td><td>6.89</td></tr>\n",
       "</tbody>\n",
       "</table>\n"
      ],
      "text/latex": [
       "\\begin{tabular}{r|ll}\n",
       "  & x4 & y4\\\\\n",
       "\\hline\n",
       "\t1 & 8    & 6.58\\\\\n",
       "\t2 & 8    & 5.76\\\\\n",
       "\t3 & 8    & 7.71\\\\\n",
       "\t4 & 8    & 8.84\\\\\n",
       "\t5 & 8    & 8.47\\\\\n",
       "\t6 & 8    & 7.04\\\\\n",
       "\t7 & 8    & 5.25\\\\\n",
       "\t9 & 8    & 5.56\\\\\n",
       "\t10 & 8    & 7.91\\\\\n",
       "\t11 & 8    & 6.89\\\\\n",
       "\\end{tabular}\n"
      ],
      "text/markdown": [
       "\n",
       "| <!--/--> | x4 | y4 | \n",
       "|---|---|---|---|---|---|---|---|---|---|\n",
       "| 1 | 8    | 6.58 | \n",
       "| 2 | 8    | 5.76 | \n",
       "| 3 | 8    | 7.71 | \n",
       "| 4 | 8    | 8.84 | \n",
       "| 5 | 8    | 8.47 | \n",
       "| 6 | 8    | 7.04 | \n",
       "| 7 | 8    | 5.25 | \n",
       "| 9 | 8    | 5.56 | \n",
       "| 10 | 8    | 7.91 | \n",
       "| 11 | 8    | 6.89 | \n",
       "\n",
       "\n"
      ],
      "text/plain": [
       "   x4 y4  \n",
       "1  8  6.58\n",
       "2  8  5.76\n",
       "3  8  7.71\n",
       "4  8  8.84\n",
       "5  8  8.47\n",
       "6  8  7.04\n",
       "7  8  5.25\n",
       "9  8  5.56\n",
       "10 8  7.91\n",
       "11 8  6.89"
      ]
     },
     "metadata": {},
     "output_type": "display_data"
    }
   ],
   "source": [
    "data3\n",
    "write.csv(data3,\"Francis_data3.csv\",row.names=FALSE)"
   ]
  },
  {
   "cell_type": "code",
   "execution_count": 9,
   "metadata": {},
   "outputs": [
    {
     "data": {
      "image/png": "[encoded data removed]",
      "text/plain": [
       "plot without title"
      ]
     },
     "metadata": {},
     "output_type": "display_data"
    }
   ],
   "source": [
    "plot(data3[,1],data3[,2])"
   ]
  },
  {
   "cell_type": "code",
   "execution_count": 12,
   "metadata": {},
   "outputs": [
    {
     "data": {
      "text/plain": [
       "\n",
       "Call:\n",
       "lm(formula = data3[, 2] ~ data3[, 1])\n",
       "\n",
       "Residuals:\n",
       "   Min     1Q Median     3Q    Max \n",
       "-1.751 -1.036 -0.036  0.859  1.839 \n",
       "\n",
       "Coefficients: (1 not defined because of singularities)\n",
       "            Estimate Std. Error t value Pr(>|t|)    \n",
       "(Intercept)   7.0010     0.3908   17.92 2.39e-08 ***\n",
       "data3[, 1]        NA         NA      NA       NA    \n",
       "---\n",
       "Signif. codes:  0 '***' 0.001 '**' 0.01 '*' 0.05 '.' 0.1 ' ' 1\n",
       "\n",
       "Residual standard error: 1.236 on 9 degrees of freedom\n"
      ]
     },
     "metadata": {},
     "output_type": "display_data"
    },
    {
     "data": {
      "text/html": [
       "<strong>png:</strong> 2"
      ],
      "text/latex": [
       "\\textbf{png:} 2"
      ],
      "text/markdown": [
       "**png:** 2"
      ],
      "text/plain": [
       "png \n",
       "  2 "
      ]
     },
     "metadata": {},
     "output_type": "display_data"
    },
    {
     "ename": "ERROR",
     "evalue": "Error in int_abline(a = a, b = b, h = h, v = v, untf = untf, ...):  'a' と 'b' は有限でなければなりません \n",
     "output_type": "error",
     "traceback": [
      "Error in int_abline(a = a, b = b, h = h, v = v, untf = untf, ...):  'a' と 'b' は有限でなければなりません \nTraceback:\n",
      "1. abline(lsr_data4_kai)",
      "2. int_abline(a = a, b = b, h = h, v = v, untf = untf, ...)"
     ]
    },
    {
     "data": {
      "image/png": "[encoded data removed]",
      "text/plain": [
       "plot without title"
      ]
     },
     "metadata": {},
     "output_type": "display_data"
    }
   ],
   "source": [
    "lsr_data4_kai <- lm( data3[,2]~data3[,1])\n",
    "summary(lsr_data4_kai)\n",
    "png(\"francsis4_kai.png\",width=400,height=400)\n",
    "plot(data3[,1],data3[,2])\n",
    "dev.off()\n",
    "plot(data3[,1],data3[,2])\n",
    "abline(lsr_data4_kai)"
   ]
  },
  {
   "cell_type": "code",
   "execution_count": 13,
   "metadata": {},
   "outputs": [
    {
     "data": {
      "text/plain": [
       "       x4          y4       \n",
       " Min.   :8   Min.   :5.250  \n",
       " 1st Qu.:8   1st Qu.:5.965  \n",
       " Median :8   Median :6.965  \n",
       " Mean   :8   Mean   :7.001  \n",
       " 3rd Qu.:8   3rd Qu.:7.860  \n",
       " Max.   :8   Max.   :8.840  "
      ]
     },
     "metadata": {},
     "output_type": "display_data"
    }
   ],
   "source": [
    "summary(data3)"
   ]
  },
  {
   "cell_type": "code",
   "execution_count": null,
   "metadata": {},
   "outputs": [],
   "source": []
  }
 ],
 "metadata": {
  "kernelspec": {
   "display_name": "R",
   "language": "R",
   "name": "ir"
  },
  "language_info": {
   "codemirror_mode": "r",
   "file_extension": ".r",
   "mimetype": "text/x-r-source",
   "name": "R",
   "pygments_lexer": "r",
   "version": "3.5.1"
  }
 },
 "nbformat": 4,
 "nbformat_minor": 2
}
