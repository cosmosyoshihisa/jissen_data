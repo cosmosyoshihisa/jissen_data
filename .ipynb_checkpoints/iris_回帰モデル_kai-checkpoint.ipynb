{
 "cells": [
  {
   "cell_type": "markdown",
   "metadata": {},
   "source": [
    "# これから使うデータ一覧"
   ]
  },
  {
   "cell_type": "code",
   "execution_count": 1,
   "metadata": {},
   "outputs": [],
   "source": [
    "data(iris)\n",
    "PL <- iris$Petal.Length\n",
    "PW <- iris$Petal.Width\n",
    "SL <- iris$Sepal.Length\n",
    "SW <- iris$Sepal.Width\n",
    "SP <- iris$Species\n",
    "#Sepal:がく片、Petal:花びら\n",
    "\n",
    "SL_2 <- SL^2#がく片の長さを2乗\n",
    "SW_2 <- SW^2#がく片の幅を2乗\n",
    "SL_10<- SL^10\n",
    "SW_10<- SW^10\n",
    "SA <- SL*SW #SA:がく片の面積"
   ]
  },
  {
   "cell_type": "code",
   "execution_count": 4,
   "metadata": {},
   "outputs": [
    {
     "data": {
      "text/plain": [
       "  Sepal.Length    Sepal.Width     Petal.Length    Petal.Width   \n",
       " Min.   :4.300   Min.   :2.000   Min.   :1.000   Min.   :0.100  \n",
       " 1st Qu.:5.100   1st Qu.:2.800   1st Qu.:1.600   1st Qu.:0.300  \n",
       " Median :5.800   Median :3.000   Median :4.350   Median :1.300  \n",
       " Mean   :5.843   Mean   :3.057   Mean   :3.758   Mean   :1.199  \n",
       " 3rd Qu.:6.400   3rd Qu.:3.300   3rd Qu.:5.100   3rd Qu.:1.800  \n",
       " Max.   :7.900   Max.   :4.400   Max.   :6.900   Max.   :2.500  \n",
       "       Species  \n",
       " setosa    :50  \n",
       " versicolor:50  \n",
       " virginica :50  \n",
       "                \n",
       "                \n",
       "                "
      ]
     },
     "metadata": {},
     "output_type": "display_data"
    }
   ],
   "source": [
    "summary(iris)"
   ]
  },
  {
   "cell_type": "markdown",
   "metadata": {},
   "source": [
    "# SP,SL,SWを+,*の両者でどちらの方がいいか比較"
   ]
  },
  {
   "cell_type": "code",
   "execution_count": 5,
   "metadata": {},
   "outputs": [],
   "source": [
    "lsr2 <- lm(PW~PL+SP)\n",
    "lsr3 <- lm(PW~PL*SP)"
   ]
  },
  {
   "cell_type": "code",
   "execution_count": 6,
   "metadata": {},
   "outputs": [],
   "source": [
    "lsr4 <- lm(PW~PL+SL)\n",
    "lsr5 <- lm(PW~PL*SL)"
   ]
  },
  {
   "cell_type": "code",
   "execution_count": 7,
   "metadata": {},
   "outputs": [],
   "source": [
    "lsr6 <- lm(PW~PL+SW)\n",
    "lsr7 <- lm(PW~PL*SW)"
   ]
  },
  {
   "cell_type": "code",
   "execution_count": 8,
   "metadata": {
    "scrolled": true
   },
   "outputs": [
    {
     "name": "stdout",
     "output_type": "stream",
     "text": [
      "Start:  AIC=-511.09\n",
      "PW ~ PL + SP\n",
      "\n",
      "       Df Sum of Sq    RSS     AIC\n",
      "<none>              4.7116 -511.09\n",
      "- PL    1    1.4450 6.1566 -472.97\n",
      "- SP    2    1.5984 6.3101 -471.27\n"
     ]
    },
    {
     "data": {
      "text/plain": [
       "\n",
       "Call:\n",
       "lm(formula = PW ~ PL + SP)\n",
       "\n",
       "Coefficients:\n",
       " (Intercept)            PL  SPversicolor   SPvirginica  \n",
       "    -0.09083       0.23039       0.43537       0.83771  \n"
      ]
     },
     "metadata": {},
     "output_type": "display_data"
    },
    {
     "name": "stdout",
     "output_type": "stream",
     "text": [
      "Start:  AIC=-513.07\n",
      "PW ~ PL * SP\n",
      "\n",
      "        Df Sum of Sq    RSS     AIC\n",
      "<none>               4.5274 -513.07\n",
      "- PL:SP  2   0.18422 4.7116 -511.09\n"
     ]
    },
    {
     "data": {
      "text/plain": [
       "\n",
       "Call:\n",
       "lm(formula = PW ~ PL * SP)\n",
       "\n",
       "Coefficients:\n",
       "    (Intercept)               PL     SPversicolor      SPvirginica  \n",
       "       -0.04822          0.20125         -0.03607          1.18425  \n",
       "PL:SPversicolor   PL:SPvirginica  \n",
       "        0.12981         -0.04095  \n"
      ]
     },
     "metadata": {},
     "output_type": "display_data"
    },
    {
     "name": "stdout",
     "output_type": "stream",
     "text": [
      "Start:  AIC=-473.27\n",
      "PW ~ PL + SL\n",
      "\n",
      "       Df Sum of Sq     RSS     AIC\n",
      "<none>               6.1443 -473.27\n",
      "- SL    1    0.1658  6.3101 -471.27\n",
      "- PL    1   22.5079 28.6523 -244.31\n"
     ]
    },
    {
     "data": {
      "text/plain": [
       "\n",
       "Call:\n",
       "lm(formula = PW ~ PL + SL)\n",
       "\n",
       "Coefficients:\n",
       "(Intercept)           PL           SL  \n",
       "  -0.008996     0.449376    -0.082218  \n"
      ]
     },
     "metadata": {},
     "output_type": "display_data"
    },
    {
     "name": "stdout",
     "output_type": "stream",
     "text": [
      "Start:  AIC=-472.75\n",
      "PW ~ PL * SL\n",
      "\n",
      "        Df Sum of Sq    RSS     AIC\n",
      "- PL:SL  1  0.060318 6.1443 -473.27\n",
      "<none>               6.0840 -472.75\n",
      "\n",
      "Step:  AIC=-473.27\n",
      "PW ~ PL + SL\n",
      "\n",
      "       Df Sum of Sq     RSS     AIC\n",
      "<none>               6.1443 -473.27\n",
      "- SL    1    0.1658  6.3101 -471.27\n",
      "- PL    1   22.5079 28.6523 -244.31\n"
     ]
    },
    {
     "data": {
      "text/plain": [
       "\n",
       "Call:\n",
       "lm(formula = PW ~ PL + SL)\n",
       "\n",
       "Coefficients:\n",
       "(Intercept)           PL           SL  \n",
       "  -0.008996     0.449376    -0.082218  \n"
      ]
     },
     "metadata": {},
     "output_type": "display_data"
    },
    {
     "name": "stdout",
     "output_type": "stream",
     "text": [
      "Start:  AIC=-474.8\n",
      "PW ~ PL + SW\n",
      "\n",
      "       Df Sum of Sq    RSS     AIC\n",
      "<none>               6.082 -474.80\n",
      "- SW    1     0.228  6.310 -471.27\n",
      "- PL    1    68.884 74.965 -100.04\n"
     ]
    },
    {
     "data": {
      "text/plain": [
       "\n",
       "Call:\n",
       "lm(formula = PW ~ PL + SW)\n",
       "\n",
       "Coefficients:\n",
       "(Intercept)           PL           SW  \n",
       "    -0.7065       0.4263       0.0994  \n"
      ]
     },
     "metadata": {},
     "output_type": "display_data"
    },
    {
     "name": "stdout",
     "output_type": "stream",
     "text": [
      "Start:  AIC=-475.95\n",
      "PW ~ PL * SW\n",
      "\n",
      "        Df Sum of Sq    RSS     AIC\n",
      "<none>               5.9554 -475.95\n",
      "- PL:SW  1   0.12633 6.0818 -474.80\n"
     ]
    },
    {
     "data": {
      "text/plain": [
       "\n",
       "Call:\n",
       "lm(formula = PW ~ PL * SW)\n",
       "\n",
       "Coefficients:\n",
       "(Intercept)           PL           SW        PL:SW  \n",
       "   -0.19911      0.27820     -0.05342      0.04625  \n"
      ]
     },
     "metadata": {},
     "output_type": "display_data"
    }
   ],
   "source": [
    "step(lsr2)\n",
    "step(lsr3)\n",
    "step(lsr4)\n",
    "step(lsr5)\n",
    "step(lsr6)\n",
    "step(lsr7)"
   ]
  },
  {
   "cell_type": "markdown",
   "metadata": {},
   "source": [
    "## ↑どうやらSLのみ+が良さそう。"
   ]
  },
  {
   "cell_type": "markdown",
   "metadata": {},
   "source": [
    "# 次に、他のパラメーターを試す。"
   ]
  },
  {
   "cell_type": "code",
   "execution_count": 9,
   "metadata": {},
   "outputs": [],
   "source": [
    "lsr8 <- lm(PW~PL+SL_2)\n",
    "lsr9 <- lm(PW~PL*SL_2)\n",
    "lsr10 <- lm(PW~PL+SL_10)\n",
    "lsr11 <- lm(PW~PL*SL_10)"
   ]
  },
  {
   "cell_type": "code",
   "execution_count": 10,
   "metadata": {
    "scrolled": true
   },
   "outputs": [
    {
     "name": "stdout",
     "output_type": "stream",
     "text": [
      "Start:  AIC=-474.4\n",
      "PW ~ PL + SL_2\n",
      "\n",
      "       Df Sum of Sq     RSS     AIC\n",
      "<none>               6.0979 -474.40\n",
      "- SL_2  1    0.2122  6.3101 -471.27\n",
      "- PL    1   24.8943 30.9923 -232.53\n"
     ]
    },
    {
     "data": {
      "text/plain": [
       "\n",
       "Call:\n",
       "lm(formula = PW ~ PL + SL_2)\n",
       "\n",
       "Coefficients:\n",
       "(Intercept)           PL         SL_2  \n",
       "  -0.239270     0.451543    -0.007417  \n"
      ]
     },
     "metadata": {},
     "output_type": "display_data"
    },
    {
     "name": "stdout",
     "output_type": "stream",
     "text": [
      "Start:  AIC=-473.54\n",
      "PW ~ PL * SL_2\n",
      "\n",
      "          Df Sum of Sq    RSS     AIC\n",
      "- PL:SL_2  1  0.045949 6.0979 -474.40\n",
      "<none>                 6.0520 -473.54\n",
      "\n",
      "Step:  AIC=-474.4\n",
      "PW ~ PL + SL_2\n",
      "\n",
      "       Df Sum of Sq     RSS     AIC\n",
      "<none>               6.0979 -474.40\n",
      "- SL_2  1    0.2122  6.3101 -471.27\n",
      "- PL    1   24.8943 30.9923 -232.53\n"
     ]
    },
    {
     "data": {
      "text/plain": [
       "\n",
       "Call:\n",
       "lm(formula = PW ~ PL + SL_2)\n",
       "\n",
       "Coefficients:\n",
       "(Intercept)           PL         SL_2  \n",
       "  -0.239270     0.451543    -0.007417  \n"
      ]
     },
     "metadata": {},
     "output_type": "display_data"
    },
    {
     "name": "stdout",
     "output_type": "stream",
     "text": [
      "Start:  AIC=-480.09\n",
      "PW ~ PL + SL_10\n",
      "\n",
      "        Df Sum of Sq    RSS     AIC\n",
      "<none>                5.871 -480.09\n",
      "- SL_10  1     0.439  6.310 -471.27\n",
      "- PL     1    54.482 60.353 -132.56\n"
     ]
    },
    {
     "data": {
      "text/plain": [
       "\n",
       "Call:\n",
       "lm(formula = PW ~ PL + SL_10)\n",
       "\n",
       "Coefficients:\n",
       "(Intercept)           PL        SL_10  \n",
       " -4.117e-01    4.406e-01   -4.295e-10  \n"
      ]
     },
     "metadata": {},
     "output_type": "display_data"
    },
    {
     "name": "stdout",
     "output_type": "stream",
     "text": [
      "Start:  AIC=-478.3\n",
      "PW ~ PL * SL_10\n",
      "\n",
      "           Df Sum of Sq    RSS     AIC\n",
      "- PL:SL_10  1 0.0082247 5.8710 -480.09\n",
      "<none>                  5.8628 -478.30\n",
      "\n",
      "Step:  AIC=-480.09\n",
      "PW ~ PL + SL_10\n",
      "\n",
      "        Df Sum of Sq    RSS     AIC\n",
      "<none>                5.871 -480.09\n",
      "- SL_10  1     0.439  6.310 -471.27\n",
      "- PL     1    54.482 60.353 -132.56\n"
     ]
    },
    {
     "data": {
      "text/plain": [
       "\n",
       "Call:\n",
       "lm(formula = PW ~ PL + SL_10)\n",
       "\n",
       "Coefficients:\n",
       "(Intercept)           PL        SL_10  \n",
       " -4.117e-01    4.406e-01   -4.295e-10  \n"
      ]
     },
     "metadata": {},
     "output_type": "display_data"
    }
   ],
   "source": [
    "step(lsr8)\n",
    "step(lsr9)\n",
    "step(lsr10)\n",
    "step(lsr11)"
   ]
  },
  {
   "cell_type": "markdown",
   "metadata": {},
   "source": [
    "## ↑↑同じ作業が何回か入っているが、要はSL_2,10どちらも＋がよい。SL_10の方がAICの値が小さい（良い）"
   ]
  },
  {
   "cell_type": "code",
   "execution_count": 11,
   "metadata": {},
   "outputs": [],
   "source": [
    "lsr12 <- lm(PW~PL+SW_2)\n",
    "lsr13 <- lm(PW~PL*SW_2)\n",
    "lsr14 <- lm(PW~PL+SW_10)\n",
    "lsr15 <- lm(PW~PL*SW_10)"
   ]
  },
  {
   "cell_type": "code",
   "execution_count": 12,
   "metadata": {
    "scrolled": true
   },
   "outputs": [
    {
     "name": "stdout",
     "output_type": "stream",
     "text": [
      "Start:  AIC=-474.16\n",
      "PW ~ PL + SW_2\n",
      "\n",
      "       Df Sum of Sq    RSS     AIC\n",
      "<none>               6.108 -474.16\n",
      "- SW_2  1     0.202  6.310 -471.27\n",
      "- PL    1    67.645 73.752 -102.49\n"
     ]
    },
    {
     "data": {
      "text/plain": [
       "\n",
       "Call:\n",
       "lm(formula = PW ~ PL + SW_2)\n",
       "\n",
       "Coefficients:\n",
       "(Intercept)           PL         SW_2  \n",
       "   -0.54534      0.42612      0.01503  \n"
      ]
     },
     "metadata": {},
     "output_type": "display_data"
    },
    {
     "name": "stdout",
     "output_type": "stream",
     "text": [
      "Start:  AIC=-474.99\n",
      "PW ~ PL * SW_2\n",
      "\n",
      "          Df Sum of Sq    RSS     AIC\n",
      "<none>                 5.9938 -474.99\n",
      "- PL:SW_2  1   0.11377 6.1076 -474.16\n"
     ]
    },
    {
     "data": {
      "text/plain": [
       "\n",
       "Call:\n",
       "lm(formula = PW ~ PL * SW_2)\n",
       "\n",
       "Coefficients:\n",
       "(Intercept)           PL         SW_2      PL:SW_2  \n",
       "  -0.308096     0.356097    -0.006281     0.006798  \n"
      ]
     },
     "metadata": {},
     "output_type": "display_data"
    },
    {
     "name": "stdout",
     "output_type": "stream",
     "text": [
      "Start:  AIC=-469.97\n",
      "PW ~ PL + SW_10\n",
      "\n",
      "        Df Sum of Sq    RSS     AIC\n",
      "- SW_10  1     0.029  6.310 -471.27\n",
      "<none>                6.281 -469.97\n",
      "- PL     1    70.315 76.596  -96.81\n",
      "\n",
      "Step:  AIC=-471.27\n",
      "PW ~ PL\n",
      "\n",
      "       Df Sum of Sq   RSS     AIC\n",
      "<none>               6.31 -471.27\n",
      "- PL    1     80.26 86.57  -80.45\n"
     ]
    },
    {
     "data": {
      "text/plain": [
       "\n",
       "Call:\n",
       "lm(formula = PW ~ PL)\n",
       "\n",
       "Coefficients:\n",
       "(Intercept)           PL  \n",
       "    -0.3631       0.4158  \n"
      ]
     },
     "metadata": {},
     "output_type": "display_data"
    },
    {
     "name": "stdout",
     "output_type": "stream",
     "text": [
      "Start:  AIC=-468.08\n",
      "PW ~ PL * SW_10\n",
      "\n",
      "           Df Sum of Sq    RSS     AIC\n",
      "- PL:SW_10  1 0.0047199 6.2808 -469.97\n",
      "<none>                  6.2761 -468.08\n",
      "\n",
      "Step:  AIC=-469.97\n",
      "PW ~ PL + SW_10\n",
      "\n",
      "        Df Sum of Sq    RSS     AIC\n",
      "- SW_10  1     0.029  6.310 -471.27\n",
      "<none>                6.281 -469.97\n",
      "- PL     1    70.315 76.596  -96.81\n",
      "\n",
      "Step:  AIC=-471.27\n",
      "PW ~ PL\n",
      "\n",
      "       Df Sum of Sq   RSS     AIC\n",
      "<none>               6.31 -471.27\n",
      "- PL    1     80.26 86.57  -80.45\n"
     ]
    },
    {
     "data": {
      "text/plain": [
       "\n",
       "Call:\n",
       "lm(formula = PW ~ PL)\n",
       "\n",
       "Coefficients:\n",
       "(Intercept)           PL  \n",
       "    -0.3631       0.4158  \n"
      ]
     },
     "metadata": {},
     "output_type": "display_data"
    }
   ],
   "source": [
    "step(lsr12)\n",
    "step(lsr13)\n",
    "step(lsr14)\n",
    "step(lsr15)"
   ]
  },
  {
   "cell_type": "markdown",
   "metadata": {},
   "source": [
    "## ↑↑SW_2は*がよく、SW_10はそもそもない方がいい"
   ]
  },
  {
   "cell_type": "markdown",
   "metadata": {},
   "source": [
    "## ↓SAの有用性"
   ]
  },
  {
   "cell_type": "code",
   "execution_count": 13,
   "metadata": {},
   "outputs": [],
   "source": [
    "lsr16 <- lm(PW~PL+SA)\n",
    "lsr17 <- lm(PW~PL*SA)"
   ]
  },
  {
   "cell_type": "code",
   "execution_count": 14,
   "metadata": {},
   "outputs": [
    {
     "name": "stdout",
     "output_type": "stream",
     "text": [
      "Start:  AIC=-470.35\n",
      "PW ~ PL + SA\n",
      "\n",
      "       Df Sum of Sq    RSS     AIC\n",
      "- SA    1     0.045  6.310 -471.27\n",
      "<none>               6.265 -470.35\n",
      "- PL    1    68.528 74.792 -100.39\n",
      "\n",
      "Step:  AIC=-471.27\n",
      "PW ~ PL\n",
      "\n",
      "       Df Sum of Sq   RSS     AIC\n",
      "<none>               6.31 -471.27\n",
      "- PL    1     80.26 86.57  -80.45\n"
     ]
    },
    {
     "data": {
      "text/plain": [
       "\n",
       "Call:\n",
       "lm(formula = PW ~ PL)\n",
       "\n",
       "Coefficients:\n",
       "(Intercept)           PL  \n",
       "    -0.3631       0.4158  \n"
      ]
     },
     "metadata": {},
     "output_type": "display_data"
    },
    {
     "name": "stdout",
     "output_type": "stream",
     "text": [
      "Start:  AIC=-468.86\n",
      "PW ~ PL * SA\n",
      "\n",
      "        Df Sum of Sq    RSS     AIC\n",
      "- PL:SA  1  0.021247 6.2648 -470.35\n",
      "<none>               6.2435 -468.86\n",
      "\n",
      "Step:  AIC=-470.35\n",
      "PW ~ PL + SA\n",
      "\n",
      "       Df Sum of Sq    RSS     AIC\n",
      "- SA    1     0.045  6.310 -471.27\n",
      "<none>               6.265 -470.35\n",
      "- PL    1    68.528 74.792 -100.39\n",
      "\n",
      "Step:  AIC=-471.27\n",
      "PW ~ PL\n",
      "\n",
      "       Df Sum of Sq   RSS     AIC\n",
      "<none>               6.31 -471.27\n",
      "- PL    1     80.26 86.57  -80.45\n"
     ]
    },
    {
     "data": {
      "text/plain": [
       "\n",
       "Call:\n",
       "lm(formula = PW ~ PL)\n",
       "\n",
       "Coefficients:\n",
       "(Intercept)           PL  \n",
       "    -0.3631       0.4158  \n"
      ]
     },
     "metadata": {},
     "output_type": "display_data"
    }
   ],
   "source": [
    "step(lsr16)\n",
    "step(lsr17)"
   ]
  },
  {
   "cell_type": "markdown",
   "metadata": {},
   "source": [
    "## ↑SAはない方がいい？！"
   ]
  },
  {
   "cell_type": "code",
   "execution_count": 15,
   "metadata": {},
   "outputs": [
    {
     "name": "stdout",
     "output_type": "stream",
     "text": [
      "Start:  AIC=-523.16\n",
      "PW ~ PL * SP + SA\n",
      "\n",
      "        Df Sum of Sq    RSS     AIC\n",
      "<none>               4.1769 -523.16\n",
      "- PL:SP  2   0.18594 4.3629 -520.63\n",
      "- SA     1   0.35050 4.5274 -513.07\n"
     ]
    },
    {
     "data": {
      "text/plain": [
       "\n",
       "Call:\n",
       "lm(formula = PW ~ PL * SP + SA)\n",
       "\n",
       "Coefficients:\n",
       "    (Intercept)               PL     SPversicolor      SPvirginica  \n",
       "       -0.28682          0.12917          0.24751          1.52556  \n",
       "             SA  PL:SPversicolor   PL:SPvirginica  \n",
       "        0.01993          0.11400         -0.05804  \n"
      ]
     },
     "metadata": {},
     "output_type": "display_data"
    },
    {
     "name": "stdout",
     "output_type": "stream",
     "text": [
      "Start:  AIC=-526.4\n",
      "PW ~ PL * SP * SA\n",
      "\n",
      "           Df Sum of Sq    RSS     AIC\n",
      "- PL:SP:SA  2  0.074386 3.8984 -527.51\n",
      "<none>                  3.8240 -526.40\n",
      "\n",
      "Step:  AIC=-527.51\n",
      "PW ~ PL + SP + SA + PL:SP + PL:SA + SP:SA\n",
      "\n",
      "        Df Sum of Sq    RSS     AIC\n",
      "- PL:SP  2  0.089163 3.9875 -528.12\n",
      "<none>               3.8984 -527.51\n",
      "- PL:SA  1  0.107113 4.0055 -525.45\n",
      "- SP:SA  2  0.204016 4.1024 -523.86\n",
      "\n",
      "Step:  AIC=-528.12\n",
      "PW ~ PL + SP + SA + PL:SA + SP:SA\n",
      "\n",
      "        Df Sum of Sq    RSS     AIC\n",
      "<none>               3.9875 -528.12\n",
      "- PL:SA  1   0.24611 4.2336 -521.14\n",
      "- SP:SA  2   0.37023 4.3578 -518.80\n"
     ]
    },
    {
     "data": {
      "text/plain": [
       "\n",
       "Call:\n",
       "lm(formula = PW ~ PL + SP + SA + PL:SA + SP:SA)\n",
       "\n",
       "Coefficients:\n",
       "    (Intercept)               PL     SPversicolor      SPvirginica  \n",
       "       -0.66098          0.53940         -0.77461         -0.97733  \n",
       "             SA            PL:SA  SPversicolor:SA   SPvirginica:SA  \n",
       "        0.04320         -0.02475          0.09173          0.12991  \n"
      ]
     },
     "metadata": {},
     "output_type": "display_data"
    }
   ],
   "source": [
    "lsr18 <- lm(PW~PL*SP+SA)\n",
    "lsr19 <- lm(PW~PL*SP*SA)\n",
    "step(lsr18)\n",
    "step(lsr19)"
   ]
  },
  {
   "cell_type": "code",
   "execution_count": 21,
   "metadata": {},
   "outputs": [
    {
     "data": {
      "text/html": [
       "<ol class=list-inline>\n",
       "\t<li>12</li>\n",
       "\t<li>-526.402037094615</li>\n",
       "</ol>\n"
      ],
      "text/latex": [
       "\\begin{enumerate*}\n",
       "\\item 12\n",
       "\\item -526.402037094615\n",
       "\\end{enumerate*}\n"
      ],
      "text/markdown": [
       "1. 12\n",
       "2. -526.402037094615\n",
       "\n",
       "\n"
      ],
      "text/plain": [
       "[1]   12.000 -526.402"
      ]
     },
     "metadata": {},
     "output_type": "display_data"
    }
   ],
   "source": [
    "lsr20 <- lm(PW~PL*SP*SA)\n",
    "extractAIC(lsr20)"
   ]
  },
  {
   "cell_type": "markdown",
   "metadata": {},
   "source": [
    "### もはやこのあたりから式の意味が分からないし、lsr19と20のAICの値が違う理由もわからない"
   ]
  },
  {
   "cell_type": "markdown",
   "metadata": {},
   "source": [
    "# ここから下はただAICの値を下げようとしたもの"
   ]
  },
  {
   "cell_type": "code",
   "execution_count": 25,
   "metadata": {},
   "outputs": [],
   "source": [
    "lsr21 <- lm(PW~PL*SP*SA*SW*SL*SL_2*SW_2*SL_10*SW_10)\n",
    "lsr22 <- lm(PW~PL*SP*SW*SL*SA*SW_2*SL_2)\n",
    "lsr23 <- lm(PW~PL*SP*SA*SW*SW_2+SL+SL_2)\n",
    "lsr24 <- lm(PW~PL*SP*SA*SL*SW*SL_10*SW_10)"
   ]
  },
  {
   "cell_type": "code",
   "execution_count": 26,
   "metadata": {},
   "outputs": [
    {
     "data": {
      "text/html": [
       "<ol class=list-inline>\n",
       "\t<li>142</li>\n",
       "\t<li>-721.017375205647</li>\n",
       "</ol>\n"
      ],
      "text/latex": [
       "\\begin{enumerate*}\n",
       "\\item 142\n",
       "\\item -721.017375205647\n",
       "\\end{enumerate*}\n"
      ],
      "text/markdown": [
       "1. 142\n",
       "2. -721.017375205647\n",
       "\n",
       "\n"
      ],
      "text/plain": [
       "[1]  142.0000 -721.0174"
      ]
     },
     "metadata": {},
     "output_type": "display_data"
    },
    {
     "data": {
      "text/html": [
       "<ol class=list-inline>\n",
       "\t<li>112</li>\n",
       "\t<li>-560.516564251972</li>\n",
       "</ol>\n"
      ],
      "text/latex": [
       "\\begin{enumerate*}\n",
       "\\item 112\n",
       "\\item -560.516564251972\n",
       "\\end{enumerate*}\n"
      ],
      "text/markdown": [
       "1. 112\n",
       "2. -560.516564251972\n",
       "\n",
       "\n"
      ],
      "text/plain": [
       "[1]  112.0000 -560.5166"
      ]
     },
     "metadata": {},
     "output_type": "display_data"
    },
    {
     "data": {
      "text/html": [
       "<ol class=list-inline>\n",
       "\t<li>50</li>\n",
       "\t<li>-514.595661227597</li>\n",
       "</ol>\n"
      ],
      "text/latex": [
       "\\begin{enumerate*}\n",
       "\\item 50\n",
       "\\item -514.595661227597\n",
       "\\end{enumerate*}\n"
      ],
      "text/markdown": [
       "1. 50\n",
       "2. -514.595661227597\n",
       "\n",
       "\n"
      ],
      "text/plain": [
       "[1]   50.0000 -514.5957"
      ]
     },
     "metadata": {},
     "output_type": "display_data"
    },
    {
     "data": {
      "text/html": [
       "<ol class=list-inline>\n",
       "\t<li>133</li>\n",
       "\t<li>-661.429824266564</li>\n",
       "</ol>\n"
      ],
      "text/latex": [
       "\\begin{enumerate*}\n",
       "\\item 133\n",
       "\\item -661.429824266564\n",
       "\\end{enumerate*}\n"
      ],
      "text/markdown": [
       "1. 133\n",
       "2. -661.429824266564\n",
       "\n",
       "\n"
      ],
      "text/plain": [
       "[1]  133.0000 -661.4298"
      ]
     },
     "metadata": {},
     "output_type": "display_data"
    }
   ],
   "source": [
    "extractAIC(lsr21)\n",
    "extractAIC(lsr22)\n",
    "extractAIC(lsr23)\n",
    "extractAIC(lsr24)"
   ]
  },
  {
   "cell_type": "code",
   "execution_count": null,
   "metadata": {},
   "outputs": [],
   "source": []
  }
 ],
 "metadata": {
  "kernelspec": {
   "display_name": "R",
   "language": "R",
   "name": "ir"
  },
  "language_info": {
   "codemirror_mode": "r",
   "file_extension": ".r",
   "mimetype": "text/x-r-source",
   "name": "R",
   "pygments_lexer": "r",
   "version": "3.5.1"
  }
 },
 "nbformat": 4,
 "nbformat_minor": 2
}
